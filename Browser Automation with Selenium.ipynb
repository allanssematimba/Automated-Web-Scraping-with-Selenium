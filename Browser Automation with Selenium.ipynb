{
 "cells": [
  {
   "cell_type": "markdown",
   "id": "17262c3d",
   "metadata": {},
   "source": [
    "# Automated Web Scraping with Selenium"
   ]
  },
  {
   "cell_type": "markdown",
   "id": "4a8d261c",
   "metadata": {},
   "source": [
    "This Python project utilizes the Selenium library to automate web scraping tasks in order to extract the price of a particular book listed on Amazon. \n",
    "\n",
    "The script opens a Chrome browser, navigates to the NeuralNine website, clicks on the \"Books\" menu item, and then clicks on the \"7 in 1\" book link. The script then switches to the new tab that was opened and extracts the price of the paperback version of the book from Amazon's website. \n",
    "\n",
    "This project serves as a great example of how web scraping and automation can be used to gather information from websites quickly and efficiently."
   ]
  },
  {
   "cell_type": "code",
   "execution_count": 11,
   "id": "9776bf95",
   "metadata": {},
   "outputs": [
    {
     "name": "stdout",
     "output_type": "stream",
     "text": [
      " $36.06 - $39.99 \n"
     ]
    }
   ],
   "source": [
    "# Import the time module\n",
    "import time          \n",
    "\n",
    "# Import the Selenium webdriver module\n",
    "from selenium import webdriver \n",
    "\n",
    "# Import the Selenium webdriver Chrome service module\n",
    "from selenium.webdriver.chrome.service import Service\n",
    "\n",
    "# Import the Selenium webdriver options module\n",
    "from selenium.webdriver.chrome.options import Options\n",
    "\n",
    "# Import the ChromeDriver Manager module\n",
    "from webdriver_manager.chrome import ChromeDriverManager     \n",
    "\n",
    "\n",
    "\n",
    "# Create an Options object for the Chrome browser\n",
    "options = Options()\n",
    " # Set the experimental option 'detach' to True\n",
    "options.add_experimental_option('detach', True)   \n",
    "\n",
    "\n",
    "\n",
    "# Initialize a new ChromeDriver object with a specified Service object using the ChromeDriverManager\n",
    "driver = webdriver.Chrome(service=Service(ChromeDriverManager().install()),\n",
    "                          # Pass the Options object to the ChromeDriver object\n",
    "                         options=options)              \n",
    "\n",
    "\n",
    "\n",
    "# Load the target website URL in the Chrome browser\n",
    "driver.get('https://www.neuralnine.com/')\n",
    "# Maximize the Chrome browser window\n",
    "driver.maximize_window()                      \n",
    "\n",
    "\n",
    "\n",
    "# Find all links (anchor tags) on the page using the XPath selector\n",
    "links = driver.find_elements('xpath', '//a[@href]')\n",
    "# Loop through all the links found\n",
    "for link in links:\n",
    "    # Check if the link's innerHTML contains the word 'Books'\n",
    "    if 'Books' in link.get_attribute('innerHTML'):\n",
    "        # If yes, click on the link and break the loop\n",
    "        link.click()                                 \n",
    "        break\n",
    "\n",
    "        \n",
    "        \n",
    "# Find all links (anchor tags) on the page using the XPath selector        \n",
    "book_links = driver.find_elements('xpath',               \n",
    "                                 \"//div[contains(@class, 'elementor-column-wrap')][.//h2[text()[contains(., '7 IN 1')]]][count(.//a)=2]//a\")\n",
    "\n",
    "\n",
    "# Click on the first link found\n",
    "book_links[0].click()                                     \n",
    "\n",
    "\n",
    "# Switch to the new tab opened after clicking the link\n",
    "driver.switch_to.window(driver.window_handles[1])           \n",
    "\n",
    "\n",
    "# Wait for 3 seconds\n",
    "time.sleep(3)                                              \n",
    "\n",
    "\n",
    "# Find all buttons on the page using the XPath selector\n",
    "buttons = driver.find_elements('xpath',                    \n",
    "                               \"//a[.//span[text()[contains(., 'Paperback')]]]//span[text()[contains(., '$')]]\")\n",
    "\n",
    "\n",
    "# Loop through all the buttons found\n",
    "for button in buttons:\n",
    "    # Print the innerHTML of each button found\n",
    "    print(button.get_attribute('innerHTML'))               \n"
   ]
  }
 ],
 "metadata": {
  "kernelspec": {
   "display_name": "Python 3 (ipykernel)",
   "language": "python",
   "name": "python3"
  },
  "language_info": {
   "codemirror_mode": {
    "name": "ipython",
    "version": 3
   },
   "file_extension": ".py",
   "mimetype": "text/x-python",
   "name": "python",
   "nbconvert_exporter": "python",
   "pygments_lexer": "ipython3",
   "version": "3.9.15"
  }
 },
 "nbformat": 4,
 "nbformat_minor": 5
}
